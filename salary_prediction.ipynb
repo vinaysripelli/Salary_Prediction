{
 "cells": [
  {
   "cell_type": "code",
   "execution_count": 284,
   "id": "c4805202",
   "metadata": {},
   "outputs": [],
   "source": [
    "import os\n",
    "import numpy as np\n",
    "import pandas as pd\n",
    "import matplotlib.pyplot as plt\n",
    "import seaborn as sns\n",
    "import re\n",
    "from sklearn.ensemble import RandomForestRegressor,GradientBoostingRegressor\n",
    "from sklearn.metrics import mean_absolute_error,r2_score\n",
    "from sklearn.preprocessing import LabelEncoder\n",
    "from sklearn.model_selection import KFold,train_test_split,RandomizedSearchCV\n",
    "from sklearn.linear_model import LinearRegression\n"
   ]
  },
  {
   "cell_type": "code",
   "execution_count": 58,
   "id": "1a6037f1",
   "metadata": {},
   "outputs": [],
   "source": [
    "os.chdir(\"D:\\DataScience_salary\")"
   ]
  },
  {
   "cell_type": "code",
   "execution_count": 59,
   "id": "37a2543c",
   "metadata": {},
   "outputs": [],
   "source": [
    "ds_df=pd.read_csv(\"glassdoor_jobs.txt\")"
   ]
  },
  {
   "cell_type": "code",
   "execution_count": 60,
   "id": "2af48665",
   "metadata": {},
   "outputs": [],
   "source": [
    "ds_df.drop('Unnamed: 0',axis=1,inplace=True)"
   ]
  },
  {
   "cell_type": "code",
   "execution_count": 62,
   "id": "e62768cf",
   "metadata": {},
   "outputs": [
    {
     "data": {
      "text/html": [
       "<div>\n",
       "<style scoped>\n",
       "    .dataframe tbody tr th:only-of-type {\n",
       "        vertical-align: middle;\n",
       "    }\n",
       "\n",
       "    .dataframe tbody tr th {\n",
       "        vertical-align: top;\n",
       "    }\n",
       "\n",
       "    .dataframe thead th {\n",
       "        text-align: right;\n",
       "    }\n",
       "</style>\n",
       "<table border=\"1\" class=\"dataframe\">\n",
       "  <thead>\n",
       "    <tr style=\"text-align: right;\">\n",
       "      <th></th>\n",
       "      <th>Job Title</th>\n",
       "      <th>Salary Estimate</th>\n",
       "      <th>Job Description</th>\n",
       "      <th>Rating</th>\n",
       "      <th>Company Name</th>\n",
       "      <th>Location</th>\n",
       "      <th>Headquarters</th>\n",
       "      <th>Size</th>\n",
       "      <th>Founded</th>\n",
       "      <th>Type of ownership</th>\n",
       "      <th>Industry</th>\n",
       "      <th>Sector</th>\n",
       "      <th>Revenue</th>\n",
       "      <th>Competitors</th>\n",
       "    </tr>\n",
       "  </thead>\n",
       "  <tbody>\n",
       "    <tr>\n",
       "      <th>951</th>\n",
       "      <td>Senior Data Engineer</td>\n",
       "      <td>$72K-$133K (Glassdoor est.)</td>\n",
       "      <td>THE CHALLENGE\\nEventbrite has a world-class da...</td>\n",
       "      <td>4.4</td>\n",
       "      <td>Eventbrite\\n4.4</td>\n",
       "      <td>Nashville, TN</td>\n",
       "      <td>San Francisco, CA</td>\n",
       "      <td>1001 to 5000 employees</td>\n",
       "      <td>2006</td>\n",
       "      <td>Company - Public</td>\n",
       "      <td>Internet</td>\n",
       "      <td>Information Technology</td>\n",
       "      <td>$100 to $500 million (USD)</td>\n",
       "      <td>See Tickets, TicketWeb, Vendini</td>\n",
       "    </tr>\n",
       "    <tr>\n",
       "      <th>952</th>\n",
       "      <td>Project Scientist - Auton Lab, Robotics Institute</td>\n",
       "      <td>$56K-$91K (Glassdoor est.)</td>\n",
       "      <td>The Auton Lab at Carnegie Mellon University is...</td>\n",
       "      <td>2.6</td>\n",
       "      <td>Software Engineering Institute\\n2.6</td>\n",
       "      <td>Pittsburgh, PA</td>\n",
       "      <td>Pittsburgh, PA</td>\n",
       "      <td>501 to 1000 employees</td>\n",
       "      <td>1984</td>\n",
       "      <td>College / University</td>\n",
       "      <td>Colleges &amp; Universities</td>\n",
       "      <td>Education</td>\n",
       "      <td>Unknown / Non-Applicable</td>\n",
       "      <td>-1</td>\n",
       "    </tr>\n",
       "    <tr>\n",
       "      <th>953</th>\n",
       "      <td>Data Science Manager</td>\n",
       "      <td>$95K-$160K (Glassdoor est.)</td>\n",
       "      <td>Data Science ManagerResponsibilities:\\n\\nOvers...</td>\n",
       "      <td>3.2</td>\n",
       "      <td>Numeric, LLC\\n3.2</td>\n",
       "      <td>Allentown, PA</td>\n",
       "      <td>Chadds Ford, PA</td>\n",
       "      <td>1 to 50 employees</td>\n",
       "      <td>-1</td>\n",
       "      <td>Company - Private</td>\n",
       "      <td>Staffing &amp; Outsourcing</td>\n",
       "      <td>Business Services</td>\n",
       "      <td>$5 to $10 million (USD)</td>\n",
       "      <td>-1</td>\n",
       "    </tr>\n",
       "    <tr>\n",
       "      <th>954</th>\n",
       "      <td>Data Engineer</td>\n",
       "      <td>-1</td>\n",
       "      <td>Loading...\\n\\nTitle: Data Engineer\\n\\nLocation...</td>\n",
       "      <td>4.8</td>\n",
       "      <td>IGNW\\n4.8</td>\n",
       "      <td>Austin, TX</td>\n",
       "      <td>Portland, OR</td>\n",
       "      <td>201 to 500 employees</td>\n",
       "      <td>2015</td>\n",
       "      <td>Company - Private</td>\n",
       "      <td>IT Services</td>\n",
       "      <td>Information Technology</td>\n",
       "      <td>$25 to $50 million (USD)</td>\n",
       "      <td>Slalom</td>\n",
       "    </tr>\n",
       "    <tr>\n",
       "      <th>955</th>\n",
       "      <td>Research Scientist – Security and Privacy</td>\n",
       "      <td>$61K-$126K (Glassdoor est.)</td>\n",
       "      <td>Returning Candidate? Log back in to the Career...</td>\n",
       "      <td>3.6</td>\n",
       "      <td>Riverside Research Institute\\n3.6</td>\n",
       "      <td>Beavercreek, OH</td>\n",
       "      <td>Arlington, VA</td>\n",
       "      <td>501 to 1000 employees</td>\n",
       "      <td>1967</td>\n",
       "      <td>Nonprofit Organization</td>\n",
       "      <td>Federal Agencies</td>\n",
       "      <td>Government</td>\n",
       "      <td>$50 to $100 million (USD)</td>\n",
       "      <td>-1</td>\n",
       "    </tr>\n",
       "  </tbody>\n",
       "</table>\n",
       "</div>"
      ],
      "text/plain": [
       "                                             Job Title  \\\n",
       "951                               Senior Data Engineer   \n",
       "952  Project Scientist - Auton Lab, Robotics Institute   \n",
       "953                               Data Science Manager   \n",
       "954                                      Data Engineer   \n",
       "955          Research Scientist – Security and Privacy   \n",
       "\n",
       "                 Salary Estimate  \\\n",
       "951  $72K-$133K (Glassdoor est.)   \n",
       "952   $56K-$91K (Glassdoor est.)   \n",
       "953  $95K-$160K (Glassdoor est.)   \n",
       "954                           -1   \n",
       "955  $61K-$126K (Glassdoor est.)   \n",
       "\n",
       "                                       Job Description  Rating  \\\n",
       "951  THE CHALLENGE\\nEventbrite has a world-class da...     4.4   \n",
       "952  The Auton Lab at Carnegie Mellon University is...     2.6   \n",
       "953  Data Science ManagerResponsibilities:\\n\\nOvers...     3.2   \n",
       "954  Loading...\\n\\nTitle: Data Engineer\\n\\nLocation...     4.8   \n",
       "955  Returning Candidate? Log back in to the Career...     3.6   \n",
       "\n",
       "                            Company Name         Location       Headquarters  \\\n",
       "951                      Eventbrite\\n4.4    Nashville, TN  San Francisco, CA   \n",
       "952  Software Engineering Institute\\n2.6   Pittsburgh, PA     Pittsburgh, PA   \n",
       "953                    Numeric, LLC\\n3.2    Allentown, PA    Chadds Ford, PA   \n",
       "954                            IGNW\\n4.8       Austin, TX       Portland, OR   \n",
       "955    Riverside Research Institute\\n3.6  Beavercreek, OH      Arlington, VA   \n",
       "\n",
       "                       Size  Founded       Type of ownership  \\\n",
       "951  1001 to 5000 employees     2006        Company - Public   \n",
       "952   501 to 1000 employees     1984    College / University   \n",
       "953       1 to 50 employees       -1       Company - Private   \n",
       "954    201 to 500 employees     2015       Company - Private   \n",
       "955   501 to 1000 employees     1967  Nonprofit Organization   \n",
       "\n",
       "                    Industry                  Sector  \\\n",
       "951                 Internet  Information Technology   \n",
       "952  Colleges & Universities               Education   \n",
       "953   Staffing & Outsourcing       Business Services   \n",
       "954              IT Services  Information Technology   \n",
       "955         Federal Agencies              Government   \n",
       "\n",
       "                        Revenue                      Competitors  \n",
       "951  $100 to $500 million (USD)  See Tickets, TicketWeb, Vendini  \n",
       "952    Unknown / Non-Applicable                               -1  \n",
       "953     $5 to $10 million (USD)                               -1  \n",
       "954    $25 to $50 million (USD)                           Slalom  \n",
       "955   $50 to $100 million (USD)                               -1  "
      ]
     },
     "execution_count": 62,
     "metadata": {},
     "output_type": "execute_result"
    }
   ],
   "source": [
    "ds_df.tail()"
   ]
  },
  {
   "cell_type": "code",
   "execution_count": 63,
   "id": "92448bc0",
   "metadata": {},
   "outputs": [
    {
     "data": {
      "text/plain": [
       "Index(['Job Title', 'Salary Estimate', 'Job Description', 'Rating',\n",
       "       'Company Name', 'Location', 'Headquarters', 'Size', 'Founded',\n",
       "       'Type of ownership', 'Industry', 'Sector', 'Revenue', 'Competitors'],\n",
       "      dtype='object')"
      ]
     },
     "execution_count": 63,
     "metadata": {},
     "output_type": "execute_result"
    }
   ],
   "source": [
    "ds_df.columns"
   ]
  },
  {
   "cell_type": "markdown",
   "id": "b9335494",
   "metadata": {},
   "source": [
    "# Data Cleaning"
   ]
  },
  {
   "cell_type": "code",
   "execution_count": 64,
   "id": "9e55e0bf",
   "metadata": {},
   "outputs": [],
   "source": [
    "def title_extraction(title):\n",
    "    title=title.strip()\n",
    "    if \"director\" in title.lower():\n",
    "        return \"director\"\n",
    "    elif ('machine learning' in title.lower())|bool(re.search(\"ML\",title))==True:\n",
    "        return 'machine learning'\n",
    "    elif (\"data scientist\" in title.lower())|bool(re.search(\"Data Science\",title))==True:\n",
    "        return \"data scientist\"\n",
    "    elif \"data engineer\" in title.lower():\n",
    "        return \"data engineer\"\n",
    "    elif \"manager\" in title.lower():\n",
    "        return \"manager\"\n",
    "    elif (\"analyst\" in title.lower())|(bool(re.search(\"Analysis \",title))==True) | (bool(re.search(\"Analytics\",title))==True):        \n",
    "        return \"analyst\"\n",
    "    else:\n",
    "        return \"other\"\n",
    "def level(title):\n",
    "    if 'sr' in title.lower() or 'senior' in title.lower() or 'sr' in title.lower() or 'lead' in title.lower() or 'principal' in title.lower():\n",
    "            return 'senior'\n",
    "    elif 'jr' in title.lower() or 'jr.' in title.lower():\n",
    "        return 'jr'\n",
    "    else:\n",
    "        return 'na'"
   ]
  },
  {
   "cell_type": "code",
   "execution_count": 65,
   "id": "1d8caa80",
   "metadata": {},
   "outputs": [],
   "source": [
    "ds_df[\"Job_title_dum\"]=ds_df[\"Job Title\"].apply(title_extraction)\n",
    "ds_df[\"Job_level\"]=ds_df[\"Job Title\"].apply(level)"
   ]
  },
  {
   "cell_type": "code",
   "execution_count": 66,
   "id": "82ecf6ac",
   "metadata": {},
   "outputs": [],
   "source": [
    "def job_state(location):\n",
    "    x=location.split(\",\")[-1]\n",
    "    if x==\"Virginia\":\n",
    "        x=\"VA\"\n",
    "    elif x==\"New Jersey\":\n",
    "        x=\"NJ\"\n",
    "    elif x==\"Oregon\":\n",
    "        x=\"OR\"\n",
    "    elif x==\"Maryland\":\n",
    "        x=\"MD\"\n",
    "    elif x==\"Michigan\":\n",
    "        x=\"MI\"\n",
    "    else:\n",
    "        x=x\n",
    "    return x.strip()\n",
    "ds_df[\"Job_state\"]=ds_df[\"Location\"].apply(job_state)"
   ]
  },
  {
   "cell_type": "code",
   "execution_count": 67,
   "id": "844beada",
   "metadata": {},
   "outputs": [],
   "source": [
    "ds_df[\"no_comp\"]=ds_df[\"Competitors\"].apply(lambda x: len(x.split(\",\")) if x!=\"-1\" else 0)"
   ]
  },
  {
   "cell_type": "code",
   "execution_count": 68,
   "id": "2af67cad",
   "metadata": {},
   "outputs": [],
   "source": [
    "ds_df['hourly'] = ds_df['Salary Estimate'].apply(lambda x: 1 if 'per hour' in x.lower() else 0)\n",
    "ds_df['employer_provided'] = ds_df['Salary Estimate'].apply(lambda x: 1 if 'employer provided salary:' in x.lower() else 0)"
   ]
  },
  {
   "cell_type": "code",
   "execution_count": 69,
   "id": "f3c160cc",
   "metadata": {},
   "outputs": [],
   "source": [
    "ds_df = ds_df[ds_df['Salary Estimate'] != '-1']\n",
    "\n",
    "salary = ds_df['Salary Estimate'].apply(lambda x: x.split('(')[0])\n",
    "\n",
    "minus_Kd = salary.apply(lambda x: x.replace('K','').replace('$',''))\n",
    "\n",
    "min_hr = minus_Kd.apply(lambda x: x.lower().replace('per hour','').replace('employer provided salary:',''))\n",
    "\n"
   ]
  },
  {
   "cell_type": "code",
   "execution_count": 70,
   "id": "ce72edcc",
   "metadata": {},
   "outputs": [],
   "source": [
    "ds_df['min_salary'] = min_hr.apply(lambda x: int(x.split('-')[0]))\n",
    "ds_df['max_salary'] = min_hr.apply(lambda x: int(x.split('-')[1]))\n",
    "ds_df['avg_salary'] = (ds_df.min_salary+ds_df.max_salary)/2\n"
   ]
  },
  {
   "cell_type": "code",
   "execution_count": 71,
   "id": "464d1f0b",
   "metadata": {
    "scrolled": true
   },
   "outputs": [
    {
     "data": {
      "text/plain": [
       "Index(['Job Title', 'Salary Estimate', 'Job Description', 'Rating',\n",
       "       'Company Name', 'Location', 'Headquarters', 'Size', 'Founded',\n",
       "       'Type of ownership', 'Industry', 'Sector', 'Revenue', 'Competitors',\n",
       "       'Job_title_dum', 'Job_level', 'Job_state', 'no_comp', 'hourly',\n",
       "       'employer_provided', 'min_salary', 'max_salary', 'avg_salary'],\n",
       "      dtype='object')"
      ]
     },
     "execution_count": 71,
     "metadata": {},
     "output_type": "execute_result"
    }
   ],
   "source": [
    "ds_df.columns"
   ]
  },
  {
   "cell_type": "code",
   "execution_count": 72,
   "id": "cfc2493c",
   "metadata": {},
   "outputs": [
    {
     "data": {
      "text/plain": [
       "0                          Tecolote Research\\n3.8\n",
       "1      University of Maryland Medical System\\n3.4\n",
       "2                                    KnowBe4\\n4.8\n",
       "3                                       PNNL\\n3.8\n",
       "4                         Affinity Solutions\\n2.9\n",
       "                          ...                    \n",
       "950                                      GSK\\n3.9\n",
       "951                               Eventbrite\\n4.4\n",
       "952           Software Engineering Institute\\n2.6\n",
       "953                             Numeric, LLC\\n3.2\n",
       "955             Riverside Research Institute\\n3.6\n",
       "Name: Company Name, Length: 742, dtype: object"
      ]
     },
     "execution_count": 72,
     "metadata": {},
     "output_type": "execute_result"
    }
   ],
   "source": [
    "ds_df[\"Company Name\"]"
   ]
  },
  {
   "cell_type": "code",
   "execution_count": 73,
   "id": "44f9926f",
   "metadata": {},
   "outputs": [],
   "source": [
    "ds_df[\"Company Name\"]=ds_df[\"Company Name\"].apply(lambda x:x.split(\"\\n\")[0])"
   ]
  },
  {
   "cell_type": "code",
   "execution_count": 74,
   "id": "3d4355e1",
   "metadata": {},
   "outputs": [],
   "source": [
    "ds_df['min_salary'] = ds_df.apply(lambda x: x.min_salary*2 if x.hourly ==1 else x.min_salary, axis =1)\n",
    "ds_df['max_salary'] = ds_df.apply(lambda x: x.max_salary*2 if x.hourly ==1 else x.max_salary, axis =1)"
   ]
  },
  {
   "cell_type": "code",
   "execution_count": 75,
   "id": "d2014c66",
   "metadata": {},
   "outputs": [],
   "source": [
    "ds_df[\"Age\"]=ds_df.Founded.apply(lambda x: x if x <1 else 2020 - x)"
   ]
  },
  {
   "cell_type": "code",
   "execution_count": 76,
   "id": "26c1b844",
   "metadata": {},
   "outputs": [
    {
     "data": {
      "text/html": [
       "<div>\n",
       "<style scoped>\n",
       "    .dataframe tbody tr th:only-of-type {\n",
       "        vertical-align: middle;\n",
       "    }\n",
       "\n",
       "    .dataframe tbody tr th {\n",
       "        vertical-align: top;\n",
       "    }\n",
       "\n",
       "    .dataframe thead th {\n",
       "        text-align: right;\n",
       "    }\n",
       "</style>\n",
       "<table border=\"1\" class=\"dataframe\">\n",
       "  <thead>\n",
       "    <tr style=\"text-align: right;\">\n",
       "      <th></th>\n",
       "      <th>Rating</th>\n",
       "      <th>Founded</th>\n",
       "      <th>no_comp</th>\n",
       "      <th>hourly</th>\n",
       "      <th>employer_provided</th>\n",
       "      <th>min_salary</th>\n",
       "      <th>max_salary</th>\n",
       "      <th>avg_salary</th>\n",
       "      <th>Age</th>\n",
       "    </tr>\n",
       "  </thead>\n",
       "  <tbody>\n",
       "    <tr>\n",
       "      <th>count</th>\n",
       "      <td>742.000000</td>\n",
       "      <td>742.000000</td>\n",
       "      <td>742.000000</td>\n",
       "      <td>742.000000</td>\n",
       "      <td>742.000000</td>\n",
       "      <td>742.000000</td>\n",
       "      <td>742.000000</td>\n",
       "      <td>742.000000</td>\n",
       "      <td>742.000000</td>\n",
       "    </tr>\n",
       "    <tr>\n",
       "      <th>mean</th>\n",
       "      <td>3.618868</td>\n",
       "      <td>1837.154987</td>\n",
       "      <td>1.053908</td>\n",
       "      <td>0.032345</td>\n",
       "      <td>0.022911</td>\n",
       "      <td>74.719677</td>\n",
       "      <td>128.149596</td>\n",
       "      <td>100.626011</td>\n",
       "      <td>46.591644</td>\n",
       "    </tr>\n",
       "    <tr>\n",
       "      <th>std</th>\n",
       "      <td>0.801210</td>\n",
       "      <td>497.183763</td>\n",
       "      <td>1.384239</td>\n",
       "      <td>0.177034</td>\n",
       "      <td>0.149721</td>\n",
       "      <td>30.980593</td>\n",
       "      <td>45.220324</td>\n",
       "      <td>38.855948</td>\n",
       "      <td>53.778815</td>\n",
       "    </tr>\n",
       "    <tr>\n",
       "      <th>min</th>\n",
       "      <td>-1.000000</td>\n",
       "      <td>-1.000000</td>\n",
       "      <td>0.000000</td>\n",
       "      <td>0.000000</td>\n",
       "      <td>0.000000</td>\n",
       "      <td>15.000000</td>\n",
       "      <td>16.000000</td>\n",
       "      <td>13.500000</td>\n",
       "      <td>-1.000000</td>\n",
       "    </tr>\n",
       "    <tr>\n",
       "      <th>25%</th>\n",
       "      <td>3.300000</td>\n",
       "      <td>1939.000000</td>\n",
       "      <td>0.000000</td>\n",
       "      <td>0.000000</td>\n",
       "      <td>0.000000</td>\n",
       "      <td>52.000000</td>\n",
       "      <td>96.000000</td>\n",
       "      <td>73.500000</td>\n",
       "      <td>11.000000</td>\n",
       "    </tr>\n",
       "    <tr>\n",
       "      <th>50%</th>\n",
       "      <td>3.700000</td>\n",
       "      <td>1988.000000</td>\n",
       "      <td>0.000000</td>\n",
       "      <td>0.000000</td>\n",
       "      <td>0.000000</td>\n",
       "      <td>69.500000</td>\n",
       "      <td>124.000000</td>\n",
       "      <td>97.500000</td>\n",
       "      <td>24.000000</td>\n",
       "    </tr>\n",
       "    <tr>\n",
       "      <th>75%</th>\n",
       "      <td>4.000000</td>\n",
       "      <td>2007.000000</td>\n",
       "      <td>3.000000</td>\n",
       "      <td>0.000000</td>\n",
       "      <td>0.000000</td>\n",
       "      <td>91.000000</td>\n",
       "      <td>155.000000</td>\n",
       "      <td>122.500000</td>\n",
       "      <td>59.000000</td>\n",
       "    </tr>\n",
       "    <tr>\n",
       "      <th>max</th>\n",
       "      <td>5.000000</td>\n",
       "      <td>2019.000000</td>\n",
       "      <td>4.000000</td>\n",
       "      <td>1.000000</td>\n",
       "      <td>1.000000</td>\n",
       "      <td>202.000000</td>\n",
       "      <td>306.000000</td>\n",
       "      <td>254.000000</td>\n",
       "      <td>276.000000</td>\n",
       "    </tr>\n",
       "  </tbody>\n",
       "</table>\n",
       "</div>"
      ],
      "text/plain": [
       "           Rating      Founded     no_comp      hourly  employer_provided  \\\n",
       "count  742.000000   742.000000  742.000000  742.000000         742.000000   \n",
       "mean     3.618868  1837.154987    1.053908    0.032345           0.022911   \n",
       "std      0.801210   497.183763    1.384239    0.177034           0.149721   \n",
       "min     -1.000000    -1.000000    0.000000    0.000000           0.000000   \n",
       "25%      3.300000  1939.000000    0.000000    0.000000           0.000000   \n",
       "50%      3.700000  1988.000000    0.000000    0.000000           0.000000   \n",
       "75%      4.000000  2007.000000    3.000000    0.000000           0.000000   \n",
       "max      5.000000  2019.000000    4.000000    1.000000           1.000000   \n",
       "\n",
       "       min_salary  max_salary  avg_salary         Age  \n",
       "count  742.000000  742.000000  742.000000  742.000000  \n",
       "mean    74.719677  128.149596  100.626011   46.591644  \n",
       "std     30.980593   45.220324   38.855948   53.778815  \n",
       "min     15.000000   16.000000   13.500000   -1.000000  \n",
       "25%     52.000000   96.000000   73.500000   11.000000  \n",
       "50%     69.500000  124.000000   97.500000   24.000000  \n",
       "75%     91.000000  155.000000  122.500000   59.000000  \n",
       "max    202.000000  306.000000  254.000000  276.000000  "
      ]
     },
     "execution_count": 76,
     "metadata": {},
     "output_type": "execute_result"
    }
   ],
   "source": [
    "ds_df.describe()"
   ]
  },
  {
   "cell_type": "code",
   "execution_count": 77,
   "id": "8580418b",
   "metadata": {},
   "outputs": [],
   "source": [
    "ds_df[\"same_state\"]=ds_df.apply(lambda x:1 if x[\"Job_state\"]==x[\"Headquarters\"].split(\",\")[-1].strip() else 0,axis=1)"
   ]
  },
  {
   "cell_type": "markdown",
   "id": "4d83afb1",
   "metadata": {},
   "source": [
    "# Data Visualization"
   ]
  },
  {
   "cell_type": "code",
   "execution_count": 78,
   "id": "64ed94e0",
   "metadata": {},
   "outputs": [
    {
     "data": {
      "text/plain": [
       "Index(['Job Title', 'Salary Estimate', 'Job Description', 'Rating',\n",
       "       'Company Name', 'Location', 'Headquarters', 'Size', 'Founded',\n",
       "       'Type of ownership', 'Industry', 'Sector', 'Revenue', 'Competitors',\n",
       "       'Job_title_dum', 'Job_level', 'Job_state', 'no_comp', 'hourly',\n",
       "       'employer_provided', 'min_salary', 'max_salary', 'avg_salary', 'Age',\n",
       "       'same_state'],\n",
       "      dtype='object')"
      ]
     },
     "execution_count": 78,
     "metadata": {},
     "output_type": "execute_result"
    }
   ],
   "source": [
    "ds_df.columns"
   ]
  },
  {
   "cell_type": "code",
   "execution_count": 79,
   "id": "dc6a92bf",
   "metadata": {
    "scrolled": true
   },
   "outputs": [
    {
     "name": "stderr",
     "output_type": "stream",
     "text": [
      "C:\\Users\\user\\anaconda3\\lib\\site-packages\\seaborn\\_decorators.py:36: FutureWarning: Pass the following variable as a keyword arg: x. From version 0.12, the only valid positional argument will be `data`, and passing other arguments without an explicit keyword will result in an error or misinterpretation.\n",
      "  warnings.warn(\n"
     ]
    },
    {
     "data": {
      "image/png": "[encoded data removed]",
      "text/plain": [
       "<Figure size 432x288 with 1 Axes>"
      ]
     },
     "metadata": {
      "needs_background": "light"
     },
     "output_type": "display_data"
    }
   ],
   "source": [
    "chart=sns.countplot(ds_df[\"Job_title_dum\"])\n",
    "chart.set_xticklabels(chart.get_xticklabels(), rotation=90)\n",
    "plt.show()"
   ]
  },
  {
   "cell_type": "code",
   "execution_count": 80,
   "id": "0c00f67e",
   "metadata": {},
   "outputs": [
    {
     "name": "stderr",
     "output_type": "stream",
     "text": [
      "C:\\Users\\user\\anaconda3\\lib\\site-packages\\seaborn\\distributions.py:2619: FutureWarning: `distplot` is a deprecated function and will be removed in a future version. Please adapt your code to use either `displot` (a figure-level function with similar flexibility) or `histplot` (an axes-level function for histograms).\n",
      "  warnings.warn(msg, FutureWarning)\n"
     ]
    },
    {
     "data": {
      "text/plain": [
       "<AxesSubplot:xlabel='Rating', ylabel='Density'>"
      ]
     },
     "execution_count": 80,
     "metadata": {},
     "output_type": "execute_result"
    },
    {
     "data": {
      "image/png": "[encoded data removed]",
      "text/plain": [
       "<Figure size 432x288 with 1 Axes>"
      ]
     },
     "metadata": {
      "needs_background": "light"
     },
     "output_type": "display_data"
    }
   ],
   "source": [
    "sns.distplot(ds_df[\"Rating\"])"
   ]
  },
  {
   "cell_type": "code",
   "execution_count": 81,
   "id": "351ac1a9",
   "metadata": {},
   "outputs": [
    {
     "name": "stderr",
     "output_type": "stream",
     "text": [
      "C:\\Users\\user\\anaconda3\\lib\\site-packages\\seaborn\\distributions.py:2619: FutureWarning: `distplot` is a deprecated function and will be removed in a future version. Please adapt your code to use either `displot` (a figure-level function with similar flexibility) or `histplot` (an axes-level function for histograms).\n",
      "  warnings.warn(msg, FutureWarning)\n"
     ]
    },
    {
     "data": {
      "text/plain": [
       "<AxesSubplot:xlabel='avg_salary', ylabel='Density'>"
      ]
     },
     "execution_count": 81,
     "metadata": {},
     "output_type": "execute_result"
    },
    {
     "data": {
      "image/png": "[encoded data removed]",
      "text/plain": [
       "<Figure size 432x288 with 1 Axes>"
      ]
     },
     "metadata": {
      "needs_background": "light"
     },
     "output_type": "display_data"
    }
   ],
   "source": [
    "sns.distplot(ds_df[\"avg_salary\"])"
   ]
  },
  {
   "cell_type": "code",
   "execution_count": 82,
   "id": "5676a210",
   "metadata": {},
   "outputs": [
    {
     "name": "stderr",
     "output_type": "stream",
     "text": [
      "C:\\Users\\user\\anaconda3\\lib\\site-packages\\seaborn\\_decorators.py:36: FutureWarning: Pass the following variables as keyword args: x, y. From version 0.12, the only valid positional argument will be `data`, and passing other arguments without an explicit keyword will result in an error or misinterpretation.\n",
      "  warnings.warn(\n"
     ]
    },
    {
     "data": {
      "text/plain": [
       "<AxesSubplot:xlabel='Rating', ylabel='avg_salary'>"
      ]
     },
     "execution_count": 82,
     "metadata": {},
     "output_type": "execute_result"
    },
    {
     "data": {
      "image/png": "[encoded data removed]",
      "text/plain": [
       "<Figure size 432x288 with 1 Axes>"
      ]
     },
     "metadata": {
      "needs_background": "light"
     },
     "output_type": "display_data"
    }
   ],
   "source": [
    "sns.scatterplot(ds_df[\"Rating\"],ds_df[\"avg_salary\"])"
   ]
  },
  {
   "cell_type": "code",
   "execution_count": 83,
   "id": "ebc00674",
   "metadata": {},
   "outputs": [
    {
     "name": "stdout",
     "output_type": "stream",
     "text": [
      "graph for Location: total = 20\n"
     ]
    },
    {
     "data": {
      "image/png": "[encoded data removed]",
      "text/plain": [
       "<Figure size 432x288 with 1 Axes>"
      ]
     },
     "metadata": {
      "needs_background": "light"
     },
     "output_type": "display_data"
    },
    {
     "name": "stdout",
     "output_type": "stream",
     "text": [
      "graph for Headquarters: total = 20\n"
     ]
    },
    {
     "data": {
      "image/png": "[encoded data removed]",
      "text/plain": [
       "<Figure size 432x288 with 1 Axes>"
      ]
     },
     "metadata": {
      "needs_background": "light"
     },
     "output_type": "display_data"
    },
    {
     "name": "stdout",
     "output_type": "stream",
     "text": [
      "graph for Company Name: total = 20\n"
     ]
    },
    {
     "data": {
      "image/png": "[encoded data removed]",
      "text/plain": [
       "<Figure size 432x288 with 1 Axes>"
      ]
     },
     "metadata": {
      "needs_background": "light"
     },
     "output_type": "display_data"
    }
   ],
   "source": [
    "for i in ds_df[['Location','Headquarters','Company Name']].columns:\n",
    "    cat_num = ds_df[i].value_counts()[:20]\n",
    "    print(\"graph for %s: total = %d\" % (i, len(cat_num)))\n",
    "    chart = sns.barplot(x=cat_num.index, y=cat_num)\n",
    "    chart.set_xticklabels(chart.get_xticklabels(), rotation=90)\n",
    "    plt.show()"
   ]
  },
  {
   "cell_type": "code",
   "execution_count": 84,
   "id": "d0f94971",
   "metadata": {},
   "outputs": [
    {
     "data": {
      "text/html": [
       "<div>\n",
       "<style scoped>\n",
       "    .dataframe tbody tr th:only-of-type {\n",
       "        vertical-align: middle;\n",
       "    }\n",
       "\n",
       "    .dataframe tbody tr th {\n",
       "        vertical-align: top;\n",
       "    }\n",
       "\n",
       "    .dataframe thead th {\n",
       "        text-align: right;\n",
       "    }\n",
       "</style>\n",
       "<table border=\"1\" class=\"dataframe\">\n",
       "  <thead>\n",
       "    <tr style=\"text-align: right;\">\n",
       "      <th></th>\n",
       "      <th>avg_salary</th>\n",
       "    </tr>\n",
       "    <tr>\n",
       "      <th>Job_title_dum</th>\n",
       "      <th></th>\n",
       "    </tr>\n",
       "  </thead>\n",
       "  <tbody>\n",
       "    <tr>\n",
       "      <th>analyst</th>\n",
       "      <td>66.500000</td>\n",
       "    </tr>\n",
       "    <tr>\n",
       "      <th>data engineer</th>\n",
       "      <td>104.133621</td>\n",
       "    </tr>\n",
       "    <tr>\n",
       "      <th>data scientist</th>\n",
       "      <td>116.829932</td>\n",
       "    </tr>\n",
       "    <tr>\n",
       "      <th>director</th>\n",
       "      <td>166.117647</td>\n",
       "    </tr>\n",
       "    <tr>\n",
       "      <th>machine learning</th>\n",
       "      <td>111.852941</td>\n",
       "    </tr>\n",
       "    <tr>\n",
       "      <th>manager</th>\n",
       "      <td>73.218750</td>\n",
       "    </tr>\n",
       "    <tr>\n",
       "      <th>other</th>\n",
       "      <td>84.551282</td>\n",
       "    </tr>\n",
       "  </tbody>\n",
       "</table>\n",
       "</div>"
      ],
      "text/plain": [
       "                  avg_salary\n",
       "Job_title_dum               \n",
       "analyst            66.500000\n",
       "data engineer     104.133621\n",
       "data scientist    116.829932\n",
       "director          166.117647\n",
       "machine learning  111.852941\n",
       "manager            73.218750\n",
       "other              84.551282"
      ]
     },
     "execution_count": 84,
     "metadata": {},
     "output_type": "execute_result"
    }
   ],
   "source": [
    "#Average salary of each job\n",
    "pd.pivot_table(ds_df,index=[\"Job_title_dum\"],values=[\"avg_salary\"])"
   ]
  },
  {
   "cell_type": "code",
   "execution_count": 85,
   "id": "ce95ec7b",
   "metadata": {},
   "outputs": [
    {
     "data": {
      "text/html": [
       "<div>\n",
       "<style scoped>\n",
       "    .dataframe tbody tr th:only-of-type {\n",
       "        vertical-align: middle;\n",
       "    }\n",
       "\n",
       "    .dataframe tbody tr th {\n",
       "        vertical-align: top;\n",
       "    }\n",
       "\n",
       "    .dataframe thead th {\n",
       "        text-align: right;\n",
       "    }\n",
       "</style>\n",
       "<table border=\"1\" class=\"dataframe\">\n",
       "  <thead>\n",
       "    <tr style=\"text-align: right;\">\n",
       "      <th></th>\n",
       "      <th></th>\n",
       "      <th>avg_salary</th>\n",
       "    </tr>\n",
       "    <tr>\n",
       "      <th>Job_title_dum</th>\n",
       "      <th>Job_level</th>\n",
       "      <th></th>\n",
       "    </tr>\n",
       "  </thead>\n",
       "  <tbody>\n",
       "    <tr>\n",
       "      <th rowspan=\"3\" valign=\"top\">analyst</th>\n",
       "      <th>jr</th>\n",
       "      <td>56.500000</td>\n",
       "    </tr>\n",
       "    <tr>\n",
       "      <th>na</th>\n",
       "      <td>62.425926</td>\n",
       "    </tr>\n",
       "    <tr>\n",
       "      <th>senior</th>\n",
       "      <td>79.092593</td>\n",
       "    </tr>\n",
       "    <tr>\n",
       "      <th rowspan=\"2\" valign=\"top\">data engineer</th>\n",
       "      <th>na</th>\n",
       "      <td>94.506329</td>\n",
       "    </tr>\n",
       "    <tr>\n",
       "      <th>senior</th>\n",
       "      <td>124.689189</td>\n",
       "    </tr>\n",
       "    <tr>\n",
       "      <th rowspan=\"3\" valign=\"top\">data scientist</th>\n",
       "      <th>jr</th>\n",
       "      <td>106.500000</td>\n",
       "    </tr>\n",
       "    <tr>\n",
       "      <th>na</th>\n",
       "      <td>106.959184</td>\n",
       "    </tr>\n",
       "    <tr>\n",
       "      <th>senior</th>\n",
       "      <td>136.881443</td>\n",
       "    </tr>\n",
       "    <tr>\n",
       "      <th>director</th>\n",
       "      <th>na</th>\n",
       "      <td>166.117647</td>\n",
       "    </tr>\n",
       "    <tr>\n",
       "      <th rowspan=\"2\" valign=\"top\">machine learning</th>\n",
       "      <th>na</th>\n",
       "      <td>105.291667</td>\n",
       "    </tr>\n",
       "    <tr>\n",
       "      <th>senior</th>\n",
       "      <td>127.600000</td>\n",
       "    </tr>\n",
       "    <tr>\n",
       "      <th>manager</th>\n",
       "      <th>na</th>\n",
       "      <td>73.218750</td>\n",
       "    </tr>\n",
       "    <tr>\n",
       "      <th rowspan=\"2\" valign=\"top\">other</th>\n",
       "      <th>na</th>\n",
       "      <td>72.415888</td>\n",
       "    </tr>\n",
       "    <tr>\n",
       "      <th>senior</th>\n",
       "      <td>111.051020</td>\n",
       "    </tr>\n",
       "  </tbody>\n",
       "</table>\n",
       "</div>"
      ],
      "text/plain": [
       "                            avg_salary\n",
       "Job_title_dum    Job_level            \n",
       "analyst          jr          56.500000\n",
       "                 na          62.425926\n",
       "                 senior      79.092593\n",
       "data engineer    na          94.506329\n",
       "                 senior     124.689189\n",
       "data scientist   jr         106.500000\n",
       "                 na         106.959184\n",
       "                 senior     136.881443\n",
       "director         na         166.117647\n",
       "machine learning na         105.291667\n",
       "                 senior     127.600000\n",
       "manager          na          73.218750\n",
       "other            na          72.415888\n",
       "                 senior     111.051020"
      ]
     },
     "execution_count": 85,
     "metadata": {},
     "output_type": "execute_result"
    }
   ],
   "source": [
    "# Average salary based on the seniority\n",
    "pd.pivot_table(ds_df,index=[\"Job_title_dum\",\"Job_level\"],values=[\"avg_salary\"])"
   ]
  },
  {
   "cell_type": "code",
   "execution_count": 86,
   "id": "946da92c",
   "metadata": {},
   "outputs": [
    {
     "data": {
      "text/html": [
       "<div>\n",
       "<style scoped>\n",
       "    .dataframe tbody tr th:only-of-type {\n",
       "        vertical-align: middle;\n",
       "    }\n",
       "\n",
       "    .dataframe tbody tr th {\n",
       "        vertical-align: top;\n",
       "    }\n",
       "\n",
       "    .dataframe thead th {\n",
       "        text-align: right;\n",
       "    }\n",
       "</style>\n",
       "<table border=\"1\" class=\"dataframe\">\n",
       "  <thead>\n",
       "    <tr style=\"text-align: right;\">\n",
       "      <th></th>\n",
       "      <th></th>\n",
       "      <th>avg_salary</th>\n",
       "    </tr>\n",
       "    <tr>\n",
       "      <th>Job_state</th>\n",
       "      <th>Job_title_dum</th>\n",
       "      <th></th>\n",
       "    </tr>\n",
       "  </thead>\n",
       "  <tbody>\n",
       "    <tr>\n",
       "      <th rowspan=\"3\" valign=\"top\">WI</th>\n",
       "      <th>other</th>\n",
       "      <td>54.000000</td>\n",
       "    </tr>\n",
       "    <tr>\n",
       "      <th>data scientist</th>\n",
       "      <td>113.500000</td>\n",
       "    </tr>\n",
       "    <tr>\n",
       "      <th>analyst</th>\n",
       "      <td>58.833333</td>\n",
       "    </tr>\n",
       "    <tr>\n",
       "      <th rowspan=\"2\" valign=\"top\">WA</th>\n",
       "      <th>data scientist</th>\n",
       "      <td>99.764706</td>\n",
       "    </tr>\n",
       "    <tr>\n",
       "      <th>analyst</th>\n",
       "      <td>65.250000</td>\n",
       "    </tr>\n",
       "    <tr>\n",
       "      <th>...</th>\n",
       "      <th>...</th>\n",
       "      <td>...</td>\n",
       "    </tr>\n",
       "    <tr>\n",
       "      <th>AZ</th>\n",
       "      <th>data scientist</th>\n",
       "      <td>106.166667</td>\n",
       "    </tr>\n",
       "    <tr>\n",
       "      <th rowspan=\"4\" valign=\"top\">AL</th>\n",
       "      <th>data scientist</th>\n",
       "      <td>68.000000</td>\n",
       "    </tr>\n",
       "    <tr>\n",
       "      <th>data engineer</th>\n",
       "      <td>65.000000</td>\n",
       "    </tr>\n",
       "    <tr>\n",
       "      <th>other</th>\n",
       "      <td>43.750000</td>\n",
       "    </tr>\n",
       "    <tr>\n",
       "      <th>analyst</th>\n",
       "      <td>60.750000</td>\n",
       "    </tr>\n",
       "  </tbody>\n",
       "</table>\n",
       "<p>116 rows × 1 columns</p>\n",
       "</div>"
      ],
      "text/plain": [
       "                          avg_salary\n",
       "Job_state Job_title_dum             \n",
       "WI        other            54.000000\n",
       "          data scientist  113.500000\n",
       "          analyst          58.833333\n",
       "WA        data scientist   99.764706\n",
       "          analyst          65.250000\n",
       "...                              ...\n",
       "AZ        data scientist  106.166667\n",
       "AL        data scientist   68.000000\n",
       "          data engineer    65.000000\n",
       "          other            43.750000\n",
       "          analyst          60.750000\n",
       "\n",
       "[116 rows x 1 columns]"
      ]
     },
     "execution_count": 86,
     "metadata": {},
     "output_type": "execute_result"
    }
   ],
   "source": [
    "# State wise salary for different positions\n",
    "pd.pivot_table(ds_df,index=[\"Job_state\",\"Job_title_dum\"],values=[\"avg_salary\"]).sort_values('Job_state', ascending = False)"
   ]
  },
  {
   "cell_type": "code",
   "execution_count": 87,
   "id": "9d8469d5",
   "metadata": {},
   "outputs": [
    {
     "data": {
      "text/html": [
       "<div>\n",
       "<style scoped>\n",
       "    .dataframe tbody tr th:only-of-type {\n",
       "        vertical-align: middle;\n",
       "    }\n",
       "\n",
       "    .dataframe tbody tr th {\n",
       "        vertical-align: top;\n",
       "    }\n",
       "\n",
       "    .dataframe thead th {\n",
       "        text-align: right;\n",
       "    }\n",
       "</style>\n",
       "<table border=\"1\" class=\"dataframe\">\n",
       "  <thead>\n",
       "    <tr style=\"text-align: right;\">\n",
       "      <th></th>\n",
       "      <th></th>\n",
       "      <th>avg_salary</th>\n",
       "    </tr>\n",
       "    <tr>\n",
       "      <th>Job_state</th>\n",
       "      <th>Job_title_dum</th>\n",
       "      <th></th>\n",
       "    </tr>\n",
       "  </thead>\n",
       "  <tbody>\n",
       "    <tr>\n",
       "      <th>DC</th>\n",
       "      <th>data scientist</th>\n",
       "      <td>149.000000</td>\n",
       "    </tr>\n",
       "    <tr>\n",
       "      <th>CA</th>\n",
       "      <th>data scientist</th>\n",
       "      <td>141.047297</td>\n",
       "    </tr>\n",
       "    <tr>\n",
       "      <th>UT</th>\n",
       "      <th>data scientist</th>\n",
       "      <td>140.500000</td>\n",
       "    </tr>\n",
       "    <tr>\n",
       "      <th>MO</th>\n",
       "      <th>data scientist</th>\n",
       "      <td>127.666667</td>\n",
       "    </tr>\n",
       "    <tr>\n",
       "      <th>NY</th>\n",
       "      <th>data scientist</th>\n",
       "      <td>117.945946</td>\n",
       "    </tr>\n",
       "    <tr>\n",
       "      <th>IL</th>\n",
       "      <th>data scientist</th>\n",
       "      <td>117.233333</td>\n",
       "    </tr>\n",
       "    <tr>\n",
       "      <th>NC</th>\n",
       "      <th>data scientist</th>\n",
       "      <td>117.000000</td>\n",
       "    </tr>\n",
       "    <tr>\n",
       "      <th>PA</th>\n",
       "      <th>data scientist</th>\n",
       "      <td>115.800000</td>\n",
       "    </tr>\n",
       "    <tr>\n",
       "      <th>WI</th>\n",
       "      <th>data scientist</th>\n",
       "      <td>113.500000</td>\n",
       "    </tr>\n",
       "    <tr>\n",
       "      <th>MD</th>\n",
       "      <th>data scientist</th>\n",
       "      <td>109.115385</td>\n",
       "    </tr>\n",
       "    <tr>\n",
       "      <th>CO</th>\n",
       "      <th>data scientist</th>\n",
       "      <td>108.666667</td>\n",
       "    </tr>\n",
       "    <tr>\n",
       "      <th>MA</th>\n",
       "      <th>data scientist</th>\n",
       "      <td>107.609375</td>\n",
       "    </tr>\n",
       "    <tr>\n",
       "      <th>NJ</th>\n",
       "      <th>data scientist</th>\n",
       "      <td>106.875000</td>\n",
       "    </tr>\n",
       "    <tr>\n",
       "      <th>MI</th>\n",
       "      <th>data scientist</th>\n",
       "      <td>106.625000</td>\n",
       "    </tr>\n",
       "    <tr>\n",
       "      <th>AZ</th>\n",
       "      <th>data scientist</th>\n",
       "      <td>106.166667</td>\n",
       "    </tr>\n",
       "    <tr>\n",
       "      <th>OH</th>\n",
       "      <th>data scientist</th>\n",
       "      <td>105.285714</td>\n",
       "    </tr>\n",
       "    <tr>\n",
       "      <th>VA</th>\n",
       "      <th>data scientist</th>\n",
       "      <td>102.659091</td>\n",
       "    </tr>\n",
       "    <tr>\n",
       "      <th>TX</th>\n",
       "      <th>data scientist</th>\n",
       "      <td>101.590909</td>\n",
       "    </tr>\n",
       "    <tr>\n",
       "      <th>WA</th>\n",
       "      <th>data scientist</th>\n",
       "      <td>99.764706</td>\n",
       "    </tr>\n",
       "    <tr>\n",
       "      <th>OR</th>\n",
       "      <th>data scientist</th>\n",
       "      <td>98.500000</td>\n",
       "    </tr>\n",
       "    <tr>\n",
       "      <th>FL</th>\n",
       "      <th>data scientist</th>\n",
       "      <td>97.357143</td>\n",
       "    </tr>\n",
       "    <tr>\n",
       "      <th>TN</th>\n",
       "      <th>data scientist</th>\n",
       "      <td>96.000000</td>\n",
       "    </tr>\n",
       "    <tr>\n",
       "      <th>IN</th>\n",
       "      <th>data scientist</th>\n",
       "      <td>91.833333</td>\n",
       "    </tr>\n",
       "    <tr>\n",
       "      <th>CT</th>\n",
       "      <th>data scientist</th>\n",
       "      <td>84.000000</td>\n",
       "    </tr>\n",
       "    <tr>\n",
       "      <th>KY</th>\n",
       "      <th>data scientist</th>\n",
       "      <td>84.000000</td>\n",
       "    </tr>\n",
       "    <tr>\n",
       "      <th>GA</th>\n",
       "      <th>data scientist</th>\n",
       "      <td>81.333333</td>\n",
       "    </tr>\n",
       "    <tr>\n",
       "      <th>NM</th>\n",
       "      <th>data scientist</th>\n",
       "      <td>74.333333</td>\n",
       "    </tr>\n",
       "    <tr>\n",
       "      <th>AL</th>\n",
       "      <th>data scientist</th>\n",
       "      <td>68.000000</td>\n",
       "    </tr>\n",
       "  </tbody>\n",
       "</table>\n",
       "</div>"
      ],
      "text/plain": [
       "                          avg_salary\n",
       "Job_state Job_title_dum             \n",
       "DC        data scientist  149.000000\n",
       "CA        data scientist  141.047297\n",
       "UT        data scientist  140.500000\n",
       "MO        data scientist  127.666667\n",
       "NY        data scientist  117.945946\n",
       "IL        data scientist  117.233333\n",
       "NC        data scientist  117.000000\n",
       "PA        data scientist  115.800000\n",
       "WI        data scientist  113.500000\n",
       "MD        data scientist  109.115385\n",
       "CO        data scientist  108.666667\n",
       "MA        data scientist  107.609375\n",
       "NJ        data scientist  106.875000\n",
       "MI        data scientist  106.625000\n",
       "AZ        data scientist  106.166667\n",
       "OH        data scientist  105.285714\n",
       "VA        data scientist  102.659091\n",
       "TX        data scientist  101.590909\n",
       "WA        data scientist   99.764706\n",
       "OR        data scientist   98.500000\n",
       "FL        data scientist   97.357143\n",
       "TN        data scientist   96.000000\n",
       "IN        data scientist   91.833333\n",
       "CT        data scientist   84.000000\n",
       "KY        data scientist   84.000000\n",
       "GA        data scientist   81.333333\n",
       "NM        data scientist   74.333333\n",
       "AL        data scientist   68.000000"
      ]
     },
     "execution_count": 87,
     "metadata": {},
     "output_type": "execute_result"
    }
   ],
   "source": [
    "# Salary of a Datascientist across all different states\n",
    "pd.pivot_table(ds_df.loc[ds_df[\"Job_title_dum\"]==\"data scientist\"],index=[\"Job_state\",\"Job_title_dum\"],values=\"avg_salary\").sort_values(by=\"avg_salary\",ascending=False)"
   ]
  },
  {
   "cell_type": "code",
   "execution_count": 88,
   "id": "ec7a51e3",
   "metadata": {},
   "outputs": [
    {
     "data": {
      "text/plain": [
       "<AxesSubplot:>"
      ]
     },
     "execution_count": 88,
     "metadata": {},
     "output_type": "execute_result"
    },
    {
     "data": {
      "image/png": "[encoded data removed]",
      "text/plain": [
       "<Figure size 432x288 with 2 Axes>"
      ]
     },
     "metadata": {
      "needs_background": "light"
     },
     "output_type": "display_data"
    }
   ],
   "source": [
    "cmap = sns.diverging_palette(2,10, as_cmap=True)\n",
    "sns.heatmap(ds_df.corr(),vmax=.3, center=0, cmap=cmap,\n",
    "            square=True, linewidths=.5, cbar_kws={\"shrink\": .5})"
   ]
  },
  {
   "cell_type": "code",
   "execution_count": 89,
   "id": "cfd45ec3",
   "metadata": {
    "scrolled": true
   },
   "outputs": [
    {
     "data": {
      "text/html": [
       "<div>\n",
       "<style scoped>\n",
       "    .dataframe tbody tr th:only-of-type {\n",
       "        vertical-align: middle;\n",
       "    }\n",
       "\n",
       "    .dataframe tbody tr th {\n",
       "        vertical-align: top;\n",
       "    }\n",
       "\n",
       "    .dataframe thead th {\n",
       "        text-align: right;\n",
       "    }\n",
       "</style>\n",
       "<table border=\"1\" class=\"dataframe\">\n",
       "  <thead>\n",
       "    <tr style=\"text-align: right;\">\n",
       "      <th></th>\n",
       "      <th>Rating</th>\n",
       "      <th>Founded</th>\n",
       "      <th>no_comp</th>\n",
       "      <th>hourly</th>\n",
       "      <th>employer_provided</th>\n",
       "      <th>min_salary</th>\n",
       "      <th>max_salary</th>\n",
       "      <th>avg_salary</th>\n",
       "      <th>Age</th>\n",
       "      <th>same_state</th>\n",
       "    </tr>\n",
       "  </thead>\n",
       "  <tbody>\n",
       "    <tr>\n",
       "      <th>Rating</th>\n",
       "      <td>1.000000</td>\n",
       "      <td>0.332927</td>\n",
       "      <td>0.027190</td>\n",
       "      <td>-0.019531</td>\n",
       "      <td>-0.468234</td>\n",
       "      <td>-0.009573</td>\n",
       "      <td>0.027344</td>\n",
       "      <td>0.013492</td>\n",
       "      <td>0.021655</td>\n",
       "      <td>0.110063</td>\n",
       "    </tr>\n",
       "    <tr>\n",
       "      <th>Founded</th>\n",
       "      <td>0.332927</td>\n",
       "      <td>1.000000</td>\n",
       "      <td>0.191265</td>\n",
       "      <td>0.049313</td>\n",
       "      <td>-0.312761</td>\n",
       "      <td>-0.033999</td>\n",
       "      <td>0.006776</td>\n",
       "      <td>-0.015149</td>\n",
       "      <td>0.134682</td>\n",
       "      <td>0.104474</td>\n",
       "    </tr>\n",
       "    <tr>\n",
       "      <th>no_comp</th>\n",
       "      <td>0.027190</td>\n",
       "      <td>0.191265</td>\n",
       "      <td>1.000000</td>\n",
       "      <td>-0.117265</td>\n",
       "      <td>-0.116665</td>\n",
       "      <td>0.076004</td>\n",
       "      <td>0.086195</td>\n",
       "      <td>0.093813</td>\n",
       "      <td>0.126687</td>\n",
       "      <td>-0.142833</td>\n",
       "    </tr>\n",
       "    <tr>\n",
       "      <th>hourly</th>\n",
       "      <td>-0.019531</td>\n",
       "      <td>0.049313</td>\n",
       "      <td>-0.117265</td>\n",
       "      <td>1.000000</td>\n",
       "      <td>0.124748</td>\n",
       "      <td>-0.203556</td>\n",
       "      <td>-0.276730</td>\n",
       "      <td>-0.356082</td>\n",
       "      <td>0.007626</td>\n",
       "      <td>0.043075</td>\n",
       "    </tr>\n",
       "    <tr>\n",
       "      <th>employer_provided</th>\n",
       "      <td>-0.468234</td>\n",
       "      <td>-0.312761</td>\n",
       "      <td>-0.116665</td>\n",
       "      <td>0.124748</td>\n",
       "      <td>1.000000</td>\n",
       "      <td>0.187591</td>\n",
       "      <td>0.028794</td>\n",
       "      <td>0.076287</td>\n",
       "      <td>-0.109288</td>\n",
       "      <td>-0.088833</td>\n",
       "    </tr>\n",
       "    <tr>\n",
       "      <th>min_salary</th>\n",
       "      <td>-0.009573</td>\n",
       "      <td>-0.033999</td>\n",
       "      <td>0.076004</td>\n",
       "      <td>-0.203556</td>\n",
       "      <td>0.187591</td>\n",
       "      <td>1.000000</td>\n",
       "      <td>0.940136</td>\n",
       "      <td>0.967765</td>\n",
       "      <td>0.003110</td>\n",
       "      <td>-0.039552</td>\n",
       "    </tr>\n",
       "    <tr>\n",
       "      <th>max_salary</th>\n",
       "      <td>0.027344</td>\n",
       "      <td>0.006776</td>\n",
       "      <td>0.086195</td>\n",
       "      <td>-0.276730</td>\n",
       "      <td>0.028794</td>\n",
       "      <td>0.940136</td>\n",
       "      <td>1.000000</td>\n",
       "      <td>0.986862</td>\n",
       "      <td>0.034395</td>\n",
       "      <td>-0.024442</td>\n",
       "    </tr>\n",
       "    <tr>\n",
       "      <th>avg_salary</th>\n",
       "      <td>0.013492</td>\n",
       "      <td>-0.015149</td>\n",
       "      <td>0.093813</td>\n",
       "      <td>-0.356082</td>\n",
       "      <td>0.076287</td>\n",
       "      <td>0.967765</td>\n",
       "      <td>0.986862</td>\n",
       "      <td>1.000000</td>\n",
       "      <td>0.019655</td>\n",
       "      <td>-0.036984</td>\n",
       "    </tr>\n",
       "    <tr>\n",
       "      <th>Age</th>\n",
       "      <td>0.021655</td>\n",
       "      <td>0.134682</td>\n",
       "      <td>0.126687</td>\n",
       "      <td>0.007626</td>\n",
       "      <td>-0.109288</td>\n",
       "      <td>0.003110</td>\n",
       "      <td>0.034395</td>\n",
       "      <td>0.019655</td>\n",
       "      <td>1.000000</td>\n",
       "      <td>-0.193164</td>\n",
       "    </tr>\n",
       "    <tr>\n",
       "      <th>same_state</th>\n",
       "      <td>0.110063</td>\n",
       "      <td>0.104474</td>\n",
       "      <td>-0.142833</td>\n",
       "      <td>0.043075</td>\n",
       "      <td>-0.088833</td>\n",
       "      <td>-0.039552</td>\n",
       "      <td>-0.024442</td>\n",
       "      <td>-0.036984</td>\n",
       "      <td>-0.193164</td>\n",
       "      <td>1.000000</td>\n",
       "    </tr>\n",
       "  </tbody>\n",
       "</table>\n",
       "</div>"
      ],
      "text/plain": [
       "                     Rating   Founded   no_comp    hourly  employer_provided  \\\n",
       "Rating             1.000000  0.332927  0.027190 -0.019531          -0.468234   \n",
       "Founded            0.332927  1.000000  0.191265  0.049313          -0.312761   \n",
       "no_comp            0.027190  0.191265  1.000000 -0.117265          -0.116665   \n",
       "hourly            -0.019531  0.049313 -0.117265  1.000000           0.124748   \n",
       "employer_provided -0.468234 -0.312761 -0.116665  0.124748           1.000000   \n",
       "min_salary        -0.009573 -0.033999  0.076004 -0.203556           0.187591   \n",
       "max_salary         0.027344  0.006776  0.086195 -0.276730           0.028794   \n",
       "avg_salary         0.013492 -0.015149  0.093813 -0.356082           0.076287   \n",
       "Age                0.021655  0.134682  0.126687  0.007626          -0.109288   \n",
       "same_state         0.110063  0.104474 -0.142833  0.043075          -0.088833   \n",
       "\n",
       "                   min_salary  max_salary  avg_salary       Age  same_state  \n",
       "Rating              -0.009573    0.027344    0.013492  0.021655    0.110063  \n",
       "Founded             -0.033999    0.006776   -0.015149  0.134682    0.104474  \n",
       "no_comp              0.076004    0.086195    0.093813  0.126687   -0.142833  \n",
       "hourly              -0.203556   -0.276730   -0.356082  0.007626    0.043075  \n",
       "employer_provided    0.187591    0.028794    0.076287 -0.109288   -0.088833  \n",
       "min_salary           1.000000    0.940136    0.967765  0.003110   -0.039552  \n",
       "max_salary           0.940136    1.000000    0.986862  0.034395   -0.024442  \n",
       "avg_salary           0.967765    0.986862    1.000000  0.019655   -0.036984  \n",
       "Age                  0.003110    0.034395    0.019655  1.000000   -0.193164  \n",
       "same_state          -0.039552   -0.024442   -0.036984 -0.193164    1.000000  "
      ]
     },
     "execution_count": 89,
     "metadata": {},
     "output_type": "execute_result"
    }
   ],
   "source": [
    "ds_df.corr()"
   ]
  },
  {
   "cell_type": "code",
   "execution_count": 90,
   "id": "c3654365",
   "metadata": {},
   "outputs": [],
   "source": [
    "ds_df['python_yn'] = ds_df['Job Description'].apply(lambda x: 1 if 'python' in x.lower() else 0)\n",
    " "
   ]
  },
  {
   "cell_type": "code",
   "execution_count": 91,
   "id": "91bdc772",
   "metadata": {},
   "outputs": [],
   "source": [
    "ds_df[\"sql\"]=ds_df['Job Description'].apply(lambda x: 1 if 'sql' in x.lower() else 0)\n"
   ]
  },
  {
   "cell_type": "code",
   "execution_count": 92,
   "id": "bbd2d4b7",
   "metadata": {},
   "outputs": [
    {
     "data": {
      "text/plain": [
       "1    388\n",
       "0    354\n",
       "Name: excel, dtype: int64"
      ]
     },
     "execution_count": 92,
     "metadata": {},
     "output_type": "execute_result"
    }
   ],
   "source": [
    "\n",
    "#excel\n",
    "ds_df['excel'] = ds_df['Job Description'].apply(lambda x: 1 if 'excel' in x.lower() else 0)\n",
    "ds_df.excel.value_counts()\n"
   ]
  },
  {
   "cell_type": "code",
   "execution_count": 93,
   "id": "f3beaae2",
   "metadata": {},
   "outputs": [
    {
     "data": {
      "text/plain": [
       "0    566\n",
       "1    176\n",
       "Name: aws, dtype: int64"
      ]
     },
     "execution_count": 93,
     "metadata": {},
     "output_type": "execute_result"
    }
   ],
   "source": [
    "#aws \n",
    "ds_df['aws'] = ds_df['Job Description'].apply(lambda x: 1 if 'aws' in x.lower() else 0)\n",
    "ds_df.aws.value_counts()\n"
   ]
  },
  {
   "cell_type": "code",
   "execution_count": 94,
   "id": "160031b8",
   "metadata": {},
   "outputs": [
    {
     "data": {
      "text/plain": [
       "0    575\n",
       "1    167\n",
       "Name: spark, dtype: int64"
      ]
     },
     "execution_count": 94,
     "metadata": {},
     "output_type": "execute_result"
    }
   ],
   "source": [
    "#spark \n",
    "ds_df['spark'] = ds_df['Job Description'].apply(lambda x: 1 if 'spark' in x.lower() else 0)\n",
    "ds_df.spark.value_counts()\n"
   ]
  },
  {
   "cell_type": "code",
   "execution_count": 95,
   "id": "90eaa681",
   "metadata": {},
   "outputs": [
    {
     "data": {
      "text/plain": [
       "0    740\n",
       "1      2\n",
       "Name: R_yn, dtype: int64"
      ]
     },
     "execution_count": 95,
     "metadata": {},
     "output_type": "execute_result"
    }
   ],
   "source": [
    "#r studio \n",
    "ds_df['R_yn'] = ds_df['Job Description'].apply(lambda x: 1 if 'r studio' in x.lower() or 'r-studio' in x.lower() else 0)\n",
    "ds_df.R_yn.value_counts()\n"
   ]
  },
  {
   "cell_type": "markdown",
   "id": "2df2a45b",
   "metadata": {},
   "source": [
    "# Model Building"
   ]
  },
  {
   "cell_type": "code",
   "execution_count": 96,
   "id": "b9d8dc9c",
   "metadata": {},
   "outputs": [
    {
     "data": {
      "text/plain": [
       "Index(['Job Title', 'Salary Estimate', 'Job Description', 'Rating',\n",
       "       'Company Name', 'Location', 'Headquarters', 'Size', 'Founded',\n",
       "       'Type of ownership', 'Industry', 'Sector', 'Revenue', 'Competitors',\n",
       "       'Job_title_dum', 'Job_level', 'Job_state', 'no_comp', 'hourly',\n",
       "       'employer_provided', 'min_salary', 'max_salary', 'avg_salary', 'Age',\n",
       "       'same_state', 'python_yn', 'sql', 'excel', 'aws', 'spark', 'R_yn'],\n",
       "      dtype='object')"
      ]
     },
     "execution_count": 96,
     "metadata": {},
     "output_type": "execute_result"
    }
   ],
   "source": [
    "ds_df.columns"
   ]
  },
  {
   "cell_type": "code",
   "execution_count": 268,
   "id": "bc2bde67",
   "metadata": {},
   "outputs": [],
   "source": [
    "features_model = ds_df[['avg_salary','Rating','Size','Type of ownership','Industry','Sector','Revenue','no_comp','hourly','employer_provided',\n",
    "             'Job_state','same_state','Age','python_yn','spark','aws','excel','Job_title_dum','Job_level','sql']]\n"
   ]
  },
  {
   "cell_type": "code",
   "execution_count": 164,
   "id": "7483917e",
   "metadata": {
    "scrolled": true
   },
   "outputs": [
    {
     "data": {
      "text/html": [
       "<div>\n",
       "<style scoped>\n",
       "    .dataframe tbody tr th:only-of-type {\n",
       "        vertical-align: middle;\n",
       "    }\n",
       "\n",
       "    .dataframe tbody tr th {\n",
       "        vertical-align: top;\n",
       "    }\n",
       "\n",
       "    .dataframe thead th {\n",
       "        text-align: right;\n",
       "    }\n",
       "</style>\n",
       "<table border=\"1\" class=\"dataframe\">\n",
       "  <thead>\n",
       "    <tr style=\"text-align: right;\">\n",
       "      <th></th>\n",
       "      <th>avg_salary</th>\n",
       "      <th>Rating</th>\n",
       "      <th>Size</th>\n",
       "      <th>Type of ownership</th>\n",
       "      <th>Industry</th>\n",
       "      <th>Sector</th>\n",
       "      <th>Revenue</th>\n",
       "      <th>no_comp</th>\n",
       "      <th>hourly</th>\n",
       "      <th>employer_provided</th>\n",
       "      <th>Job_state</th>\n",
       "      <th>same_state</th>\n",
       "      <th>Age</th>\n",
       "      <th>python_yn</th>\n",
       "      <th>spark</th>\n",
       "      <th>aws</th>\n",
       "      <th>excel</th>\n",
       "      <th>Job_title_dum</th>\n",
       "      <th>Job_level</th>\n",
       "      <th>sql</th>\n",
       "    </tr>\n",
       "  </thead>\n",
       "  <tbody>\n",
       "    <tr>\n",
       "      <th>0</th>\n",
       "      <td>72.0</td>\n",
       "      <td>3.8</td>\n",
       "      <td>501 to 1000 employees</td>\n",
       "      <td>Company - Private</td>\n",
       "      <td>Aerospace &amp; Defense</td>\n",
       "      <td>Aerospace &amp; Defense</td>\n",
       "      <td>$50 to $100 million (USD)</td>\n",
       "      <td>0</td>\n",
       "      <td>0</td>\n",
       "      <td>0</td>\n",
       "      <td>NM</td>\n",
       "      <td>0</td>\n",
       "      <td>47</td>\n",
       "      <td>1</td>\n",
       "      <td>0</td>\n",
       "      <td>0</td>\n",
       "      <td>1</td>\n",
       "      <td>data scientist</td>\n",
       "      <td>na</td>\n",
       "      <td>0</td>\n",
       "    </tr>\n",
       "    <tr>\n",
       "      <th>1</th>\n",
       "      <td>87.5</td>\n",
       "      <td>3.4</td>\n",
       "      <td>10000+ employees</td>\n",
       "      <td>Other Organization</td>\n",
       "      <td>Health Care Services &amp; Hospitals</td>\n",
       "      <td>Health Care</td>\n",
       "      <td>$2 to $5 billion (USD)</td>\n",
       "      <td>0</td>\n",
       "      <td>0</td>\n",
       "      <td>0</td>\n",
       "      <td>MD</td>\n",
       "      <td>1</td>\n",
       "      <td>36</td>\n",
       "      <td>1</td>\n",
       "      <td>0</td>\n",
       "      <td>0</td>\n",
       "      <td>0</td>\n",
       "      <td>data scientist</td>\n",
       "      <td>na</td>\n",
       "      <td>0</td>\n",
       "    </tr>\n",
       "    <tr>\n",
       "      <th>2</th>\n",
       "      <td>85.0</td>\n",
       "      <td>4.8</td>\n",
       "      <td>501 to 1000 employees</td>\n",
       "      <td>Company - Private</td>\n",
       "      <td>Security Services</td>\n",
       "      <td>Business Services</td>\n",
       "      <td>$100 to $500 million (USD)</td>\n",
       "      <td>0</td>\n",
       "      <td>0</td>\n",
       "      <td>0</td>\n",
       "      <td>FL</td>\n",
       "      <td>1</td>\n",
       "      <td>10</td>\n",
       "      <td>1</td>\n",
       "      <td>1</td>\n",
       "      <td>0</td>\n",
       "      <td>1</td>\n",
       "      <td>data scientist</td>\n",
       "      <td>na</td>\n",
       "      <td>1</td>\n",
       "    </tr>\n",
       "    <tr>\n",
       "      <th>3</th>\n",
       "      <td>76.5</td>\n",
       "      <td>3.8</td>\n",
       "      <td>1001 to 5000 employees</td>\n",
       "      <td>Government</td>\n",
       "      <td>Energy</td>\n",
       "      <td>Oil, Gas, Energy &amp; Utilities</td>\n",
       "      <td>$500 million to $1 billion (USD)</td>\n",
       "      <td>3</td>\n",
       "      <td>0</td>\n",
       "      <td>0</td>\n",
       "      <td>WA</td>\n",
       "      <td>1</td>\n",
       "      <td>55</td>\n",
       "      <td>1</td>\n",
       "      <td>0</td>\n",
       "      <td>0</td>\n",
       "      <td>0</td>\n",
       "      <td>data scientist</td>\n",
       "      <td>na</td>\n",
       "      <td>0</td>\n",
       "    </tr>\n",
       "    <tr>\n",
       "      <th>4</th>\n",
       "      <td>114.5</td>\n",
       "      <td>2.9</td>\n",
       "      <td>51 to 200 employees</td>\n",
       "      <td>Company - Private</td>\n",
       "      <td>Advertising &amp; Marketing</td>\n",
       "      <td>Business Services</td>\n",
       "      <td>Unknown / Non-Applicable</td>\n",
       "      <td>3</td>\n",
       "      <td>0</td>\n",
       "      <td>0</td>\n",
       "      <td>NY</td>\n",
       "      <td>1</td>\n",
       "      <td>22</td>\n",
       "      <td>1</td>\n",
       "      <td>0</td>\n",
       "      <td>0</td>\n",
       "      <td>1</td>\n",
       "      <td>data scientist</td>\n",
       "      <td>na</td>\n",
       "      <td>1</td>\n",
       "    </tr>\n",
       "  </tbody>\n",
       "</table>\n",
       "</div>"
      ],
      "text/plain": [
       "   avg_salary  Rating                    Size   Type of ownership  \\\n",
       "0        72.0     3.8   501 to 1000 employees   Company - Private   \n",
       "1        87.5     3.4        10000+ employees  Other Organization   \n",
       "2        85.0     4.8   501 to 1000 employees   Company - Private   \n",
       "3        76.5     3.8  1001 to 5000 employees          Government   \n",
       "4       114.5     2.9     51 to 200 employees   Company - Private   \n",
       "\n",
       "                           Industry                        Sector  \\\n",
       "0               Aerospace & Defense           Aerospace & Defense   \n",
       "1  Health Care Services & Hospitals                   Health Care   \n",
       "2                 Security Services             Business Services   \n",
       "3                            Energy  Oil, Gas, Energy & Utilities   \n",
       "4           Advertising & Marketing             Business Services   \n",
       "\n",
       "                            Revenue  no_comp  hourly  employer_provided  \\\n",
       "0         $50 to $100 million (USD)        0       0                  0   \n",
       "1            $2 to $5 billion (USD)        0       0                  0   \n",
       "2        $100 to $500 million (USD)        0       0                  0   \n",
       "3  $500 million to $1 billion (USD)        3       0                  0   \n",
       "4          Unknown / Non-Applicable        3       0                  0   \n",
       "\n",
       "  Job_state  same_state  Age  python_yn  spark  aws  excel   Job_title_dum  \\\n",
       "0        NM           0   47          1      0    0      1  data scientist   \n",
       "1        MD           1   36          1      0    0      0  data scientist   \n",
       "2        FL           1   10          1      1    0      1  data scientist   \n",
       "3        WA           1   55          1      0    0      0  data scientist   \n",
       "4        NY           1   22          1      0    0      1  data scientist   \n",
       "\n",
       "  Job_level  sql  \n",
       "0        na    0  \n",
       "1        na    0  \n",
       "2        na    1  \n",
       "3        na    0  \n",
       "4        na    1  "
      ]
     },
     "execution_count": 164,
     "metadata": {},
     "output_type": "execute_result"
    }
   ],
   "source": [
    "features_model.head()"
   ]
  },
  {
   "cell_type": "markdown",
   "id": "85a81e0f",
   "metadata": {},
   "source": [
    "## Feature_Selection "
   ]
  },
  {
   "cell_type": "code",
   "execution_count": 241,
   "id": "1fa67946",
   "metadata": {},
   "outputs": [],
   "source": [
    "def model(data,target,encoding = 'ohe', n_folds = 5):\n",
    "    #index\n",
    "    feature_index=data.index\n",
    "    # target/dependent\n",
    "    target_variable=data[target]\n",
    "    #independent features\n",
    "    features=data.drop(target,axis=1)\n",
    "    \n",
    "    # encoding\n",
    "    \n",
    "    if encoding==\"ohe\":\n",
    "        features=pd.get_dummies(features)\n",
    "        \n",
    "    elif encoding==\"le\":\n",
    "        lb_ed=LabelEncoder()\n",
    "        features_col=features.select_dtypes(\"O\")\n",
    "        for num,col in enumerate(features_col):\n",
    "            features[col]=lb_ed.fit_transform(features[col])\n",
    "            \n",
    "    # Catch error if label encoding scheme is not valid\n",
    "    else:\n",
    "        raise ValueError(\"Encoding must be either 'ohe' or 'le'\")\n",
    "    \n",
    "    # feature column names\n",
    "    feature_select=list(features.columns)\n",
    "    feature_importance_df = pd.DataFrame()\n",
    "    feature_array=np.array(features)\n",
    "    target_array=np.array(target_variable)\n",
    "    \n",
    "    # Appended_scores\n",
    "    train_score=[]\n",
    "    test_score=[]\n",
    "    \n",
    "    # Capture_feature_importance\n",
    "    feature_importance=np.zeros(len(features.columns))\n",
    "    \n",
    "    # out_of_fold\n",
    "    out_of_fold=np.zeros(features.shape[0])\n",
    "    \n",
    "    # 5 splits k-fold \n",
    "    kfold=KFold(n_splits=n_folds,shuffle=True,random_state=49)\n",
    "    for count,(train_index,test_index) in enumerate(kfold.split(features)):\n",
    "        #train,test\n",
    "        x_train,y_train=feature_array[train_index],target_array[train_index]\n",
    "        x_test,y_test=feature_array[test_index],target_array[test_index]\n",
    "        \n",
    "        # Model Building\n",
    "        gbc=RandomForestRegressor()\n",
    "        # Model fit\n",
    "        gbc.fit(x_train,y_train)\n",
    "        \n",
    "        # Feature Importance\n",
    "        feature_importance+=gbc.feature_importances_/kfold.n_splits\n",
    "        \n",
    "        # Train_Test Prediction        \n",
    "        train_predict=gbc.predict(x_train)\n",
    "        test_predict=gbc.predict(x_test)\n",
    "        \n",
    "        # Out_fold\n",
    "        out_of_fold[test_index]=gbc.predict(x_test)\n",
    "        \n",
    "        # Accuracy score\n",
    "        train_accuracy=mean_absolute_error(y_train,train_predict)\n",
    "        test_accuracy=mean_absolute_error(y_test,test_predict)\n",
    "        \n",
    "        # Append the accuracy Score\n",
    "        train_score.append(train_accuracy)\n",
    "        test_score.append(test_accuracy)\n",
    "    \n",
    "    valid_scores=mean_absolute_error(target_variable,out_of_fold)\n",
    "    \n",
    "    test_score.append(valid_scores)\n",
    "    train_score.append(np.mean(train_score))\n",
    "    folds=list(range(n_folds))\n",
    "    folds.append(\"Overall\")\n",
    "    feat_imp_df=pd.DataFrame({\"column_name\":feature_select,\"feature_importance\":feature_importance})\n",
    "    cors=pd.DataFrame({\"folds\":folds,\"trn_score\":train_score,\"tst_score\":test_score})\n",
    "    return feat_imp_df\n"
   ]
  },
  {
   "cell_type": "code",
   "execution_count": 272,
   "id": "3251868e",
   "metadata": {},
   "outputs": [
    {
     "data": {
      "text/html": [
       "<div>\n",
       "<style scoped>\n",
       "    .dataframe tbody tr th:only-of-type {\n",
       "        vertical-align: middle;\n",
       "    }\n",
       "\n",
       "    .dataframe tbody tr th {\n",
       "        vertical-align: top;\n",
       "    }\n",
       "\n",
       "    .dataframe thead th {\n",
       "        text-align: right;\n",
       "    }\n",
       "</style>\n",
       "<table border=\"1\" class=\"dataframe\">\n",
       "  <thead>\n",
       "    <tr style=\"text-align: right;\">\n",
       "      <th></th>\n",
       "      <th>column_name</th>\n",
       "      <th>feature_importance</th>\n",
       "    </tr>\n",
       "  </thead>\n",
       "  <tbody>\n",
       "    <tr>\n",
       "      <th>0</th>\n",
       "      <td>Rating</td>\n",
       "      <td>0.057690</td>\n",
       "    </tr>\n",
       "    <tr>\n",
       "      <th>1</th>\n",
       "      <td>no_comp</td>\n",
       "      <td>0.012497</td>\n",
       "    </tr>\n",
       "    <tr>\n",
       "      <th>2</th>\n",
       "      <td>hourly</td>\n",
       "      <td>0.106407</td>\n",
       "    </tr>\n",
       "    <tr>\n",
       "      <th>3</th>\n",
       "      <td>employer_provided</td>\n",
       "      <td>0.004051</td>\n",
       "    </tr>\n",
       "    <tr>\n",
       "      <th>4</th>\n",
       "      <td>same_state</td>\n",
       "      <td>0.008672</td>\n",
       "    </tr>\n",
       "  </tbody>\n",
       "</table>\n",
       "</div>"
      ],
      "text/plain": [
       "         column_name  feature_importance\n",
       "0             Rating            0.057690\n",
       "1            no_comp            0.012497\n",
       "2             hourly            0.106407\n",
       "3  employer_provided            0.004051\n",
       "4         same_state            0.008672"
      ]
     },
     "execution_count": 272,
     "metadata": {},
     "output_type": "execute_result"
    }
   ],
   "source": [
    "eval_features=model(features_model,\"avg_salary\")\n",
    "eval_features.head()"
   ]
  },
  {
   "cell_type": "markdown",
   "id": "6791d5c6",
   "metadata": {},
   "source": [
    "### Selected Features"
   ]
  },
  {
   "cell_type": "code",
   "execution_count": 273,
   "id": "ab7c1335",
   "metadata": {
    "scrolled": true
   },
   "outputs": [],
   "source": [
    "select_feat=eval_features.loc[eval_features[\"feature_importance\"]>0.01,\"column_name\"].to_numpy()\n",
    "features_mod=pd.get_dummies(features_model)"
   ]
  },
  {
   "cell_type": "code",
   "execution_count": 274,
   "id": "3c11c6c6",
   "metadata": {},
   "outputs": [],
   "source": [
    "train_features=features_mod[select_feat]\n",
    "target=features_mod['avg_salary']"
   ]
  },
  {
   "cell_type": "markdown",
   "id": "76f4c823",
   "metadata": {},
   "source": [
    "## Model_Tuning with hyper-parameteres "
   ]
  },
  {
   "cell_type": "code",
   "execution_count": 275,
   "id": "f413938f",
   "metadata": {},
   "outputs": [],
   "source": [
    "X_train,X_test,y_train,y_test=train_test_split(train_features,target,test_size=0.1)"
   ]
  },
  {
   "cell_type": "code",
   "execution_count": 276,
   "id": "6e1d0a08",
   "metadata": {},
   "outputs": [
    {
     "data": {
      "text/html": [
       "<style>#sk-container-id-5 {color: black;background-color: white;}#sk-container-id-5 pre{padding: 0;}#sk-container-id-5 div.sk-toggleable {background-color: white;}#sk-container-id-5 label.sk-toggleable__label {cursor: pointer;display: block;width: 100%;margin-bottom: 0;padding: 0.3em;box-sizing: border-box;text-align: center;}#sk-container-id-5 label.sk-toggleable__label-arrow:before {content: \"▸\";float: left;margin-right: 0.25em;color: #696969;}#sk-container-id-5 label.sk-toggleable__label-arrow:hover:before {color: black;}#sk-container-id-5 div.sk-estimator:hover label.sk-toggleable__label-arrow:before {color: black;}#sk-container-id-5 div.sk-toggleable__content {max-height: 0;max-width: 0;overflow: hidden;text-align: left;background-color: #f0f8ff;}#sk-container-id-5 div.sk-toggleable__content pre {margin: 0.2em;color: black;border-radius: 0.25em;background-color: #f0f8ff;}#sk-container-id-5 input.sk-toggleable__control:checked~div.sk-toggleable__content {max-height: 200px;max-width: 100%;overflow: auto;}#sk-container-id-5 input.sk-toggleable__control:checked~label.sk-toggleable__label-arrow:before {content: \"▾\";}#sk-container-id-5 div.sk-estimator input.sk-toggleable__control:checked~label.sk-toggleable__label {background-color: #d4ebff;}#sk-container-id-5 div.sk-label input.sk-toggleable__control:checked~label.sk-toggleable__label {background-color: #d4ebff;}#sk-container-id-5 input.sk-hidden--visually {border: 0;clip: rect(1px 1px 1px 1px);clip: rect(1px, 1px, 1px, 1px);height: 1px;margin: -1px;overflow: hidden;padding: 0;position: absolute;width: 1px;}#sk-container-id-5 div.sk-estimator {font-family: monospace;background-color: #f0f8ff;border: 1px dotted black;border-radius: 0.25em;box-sizing: border-box;margin-bottom: 0.5em;}#sk-container-id-5 div.sk-estimator:hover {background-color: #d4ebff;}#sk-container-id-5 div.sk-parallel-item::after {content: \"\";width: 100%;border-bottom: 1px solid gray;flex-grow: 1;}#sk-container-id-5 div.sk-label:hover label.sk-toggleable__label {background-color: #d4ebff;}#sk-container-id-5 div.sk-serial::before {content: \"\";position: absolute;border-left: 1px solid gray;box-sizing: border-box;top: 0;bottom: 0;left: 50%;z-index: 0;}#sk-container-id-5 div.sk-serial {display: flex;flex-direction: column;align-items: center;background-color: white;padding-right: 0.2em;padding-left: 0.2em;position: relative;}#sk-container-id-5 div.sk-item {position: relative;z-index: 1;}#sk-container-id-5 div.sk-parallel {display: flex;align-items: stretch;justify-content: center;background-color: white;position: relative;}#sk-container-id-5 div.sk-item::before, #sk-container-id-5 div.sk-parallel-item::before {content: \"\";position: absolute;border-left: 1px solid gray;box-sizing: border-box;top: 0;bottom: 0;left: 50%;z-index: -1;}#sk-container-id-5 div.sk-parallel-item {display: flex;flex-direction: column;z-index: 1;position: relative;background-color: white;}#sk-container-id-5 div.sk-parallel-item:first-child::after {align-self: flex-end;width: 50%;}#sk-container-id-5 div.sk-parallel-item:last-child::after {align-self: flex-start;width: 50%;}#sk-container-id-5 div.sk-parallel-item:only-child::after {width: 0;}#sk-container-id-5 div.sk-dashed-wrapped {border: 1px dashed gray;margin: 0 0.4em 0.5em 0.4em;box-sizing: border-box;padding-bottom: 0.4em;background-color: white;}#sk-container-id-5 div.sk-label label {font-family: monospace;font-weight: bold;display: inline-block;line-height: 1.2em;}#sk-container-id-5 div.sk-label-container {text-align: center;}#sk-container-id-5 div.sk-container {/* jupyter's `normalize.less` sets `[hidden] { display: none; }` but bootstrap.min.css set `[hidden] { display: none !important; }` so we also need the `!important` here to be able to override the default hidden behavior on the sphinx rendered scikit-learn.org. See: https://github.com/scikit-learn/scikit-learn/issues/21755 */display: inline-block !important;position: relative;}#sk-container-id-5 div.sk-text-repr-fallback {display: none;}</style><div id=\"sk-container-id-5\" class=\"sk-top-container\"><div class=\"sk-text-repr-fallback\"><pre>RandomForestRegressor(max_depth=30, max_features=35, min_samples_split=5,\n",
       "                      n_estimators=700)</pre><b>In a Jupyter environment, please rerun this cell to show the HTML representation or trust the notebook. <br />On GitHub, the HTML representation is unable to render, please try loading this page with nbviewer.org.</b></div><div class=\"sk-container\" hidden><div class=\"sk-item\"><div class=\"sk-estimator sk-toggleable\"><input class=\"sk-toggleable__control sk-hidden--visually\" id=\"sk-estimator-id-7\" type=\"checkbox\" checked><label for=\"sk-estimator-id-7\" class=\"sk-toggleable__label sk-toggleable__label-arrow\">RandomForestRegressor</label><div class=\"sk-toggleable__content\"><pre>RandomForestRegressor(max_depth=30, max_features=35, min_samples_split=5,\n",
       "                      n_estimators=700)</pre></div></div></div></div></div>"
      ],
      "text/plain": [
       "RandomForestRegressor(max_depth=30, max_features=35, min_samples_split=5,\n",
       "                      n_estimators=700)"
      ]
     },
     "execution_count": 276,
     "metadata": {},
     "output_type": "execute_result"
    }
   ],
   "source": [
    "rf = RandomForestRegressor()\n",
    "param_dist = {\"n_estimators\":[100,200,300,500,700,1000],\n",
    "              \"max_features\": [5,10,20,25,30,35],\n",
    "                'max_depth':[None,5,10,15,20,30,50,70],\n",
    "                'min_samples_leaf':[1,2,5,10,15,20], \n",
    "                'min_samples_split':[2,5,10,15,20]\n",
    "                  }\n",
    "rfs=RandomizedSearchCV(rf,param_distributions=param_dist,n_iter=10,cv=5,scoring=\"neg_mean_absolute_error\")\n",
    "model_fit=rfs.fit(X_train,y_train)\n",
    "model_fit.best_estimator_"
   ]
  },
  {
   "cell_type": "markdown",
   "id": "042b6e54",
   "metadata": {},
   "source": [
    "## Model Build with best estimator"
   ]
  },
  {
   "cell_type": "code",
   "execution_count": 291,
   "id": "6d34211e",
   "metadata": {},
   "outputs": [],
   "source": [
    "modified_model=RandomForestRegressor(max_depth=30, max_features=35, min_samples_split=5,\n",
    "                      n_estimators=700)\n",
    "fit_=rf.fit(X_train,y_train)\n",
    "predicted_x=fit_.predict(X_train)"
   ]
  },
  {
   "cell_type": "code",
   "execution_count": 292,
   "id": "a65b07d3",
   "metadata": {},
   "outputs": [
    {
     "data": {
      "text/plain": [
       "5.3782451740954365"
      ]
     },
     "execution_count": 292,
     "metadata": {},
     "output_type": "execute_result"
    }
   ],
   "source": [
    "mean_absolute_error(y_train,predicted_x)"
   ]
  },
  {
   "cell_type": "code",
   "execution_count": 290,
   "id": "df26bbb2",
   "metadata": {},
   "outputs": [
    {
     "data": {
      "text/plain": [
       "5.418374612435707"
      ]
     },
     "execution_count": 290,
     "metadata": {},
     "output_type": "execute_result"
    }
   ],
   "source": [
    "test_pred=fit_.predict(X_test)\n",
    "score=mean_absolute_error(y_test,test_pred)\n",
    "score\n",
    "mean_absolute_error(y_train,predicted_x)"
   ]
  },
  {
   "cell_type": "code",
   "execution_count": null,
   "id": "0ab58948",
   "metadata": {},
   "outputs": [],
   "source": []
  }
 ],
 "metadata": {
  "kernelspec": {
   "display_name": "Python 3 (ipykernel)",
   "language": "python",
   "name": "python3"
  },
  "language_info": {
   "codemirror_mode": {
    "name": "ipython",
    "version": 3
   },
   "file_extension": ".py",
   "mimetype": "text/x-python",
   "name": "python",
   "nbconvert_exporter": "python",
   "pygments_lexer": "ipython3",
   "version": "3.9.7"
  }
 },
 "nbformat": 4,
 "nbformat_minor": 5
}
